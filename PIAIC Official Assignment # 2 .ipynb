{
 "cells": [
  {
   "cell_type": "markdown",
   "metadata": {},
   "source": [
    "# Marksheet Assignment "
   ]
  },
  {
   "cell_type": "code",
   "execution_count": 6,
   "metadata": {},
   "outputs": [
    {
     "name": "stdout",
     "output_type": "stream",
     "text": [
      "MARKSHEET\n",
      "Enter your name: ABDULLAH\n",
      "Enter your marks in English: 80\n",
      "Enter your marks in Chemistry: 80\n",
      "Enter your marks in Pakistan Studies: 80\n",
      "Enter your marks in Sindhi: 80\n",
      "Enter your marks in Computer Science: 80\n",
      "400 /500\n",
      "Your percentage is 80.0 %\n",
      "Grade A1\n"
     ]
    }
   ],
   "source": [
    "print(\"MARKSHEET\")\n",
    "name=input(\"Enter your name: \")\n",
    "eng=int(input(\"Enter your marks in English: \"))\n",
    "che=int(input(\"Enter your marks in Chemistry: \"))\n",
    "pak_std=int(input(\"Enter your marks in Pakistan Studies: \"))\n",
    "sindhi=int(input(\"Enter your marks in Sindhi: \"))\n",
    "comp_sci=int(input(\"Enter your marks in Computer Science: \"))\n",
    "total=eng+che+pak_std+sindhi+comp_sci\n",
    "print(total,'/500')\n",
    "per=float((eng+che+pak_std+sindhi+comp_sci)/500)*100\n",
    "print(\"Your percentage is\",per,\"%\")\n",
    "avg=(total/5)\n",
    "if avg>=80 and avg<=100:\n",
    "    print(\"Grade A1\")\n",
    "elif avg>=70 and avg<=80:\n",
    "    print(\"Grade A\")\n",
    "elif avg>=60 and avg<=70:\n",
    "    print(\"Grade B\")\n",
    "elif avg>=50 and avg<=60:\n",
    "    print(\"Grade C\")\n",
    "else:\n",
    "    print(\"You are fail\")"
   ]
  }
 ],
 "metadata": {
  "kernelspec": {
   "display_name": "Python 3",
   "language": "python",
   "name": "python3"
  },
  "language_info": {
   "codemirror_mode": {
    "name": "ipython",
    "version": 3
   },
   "file_extension": ".py",
   "mimetype": "text/x-python",
   "name": "python",
   "nbconvert_exporter": "python",
   "pygments_lexer": "ipython3",
   "version": "3.7.3"
  }
 },
 "nbformat": 4,
 "nbformat_minor": 2
}
