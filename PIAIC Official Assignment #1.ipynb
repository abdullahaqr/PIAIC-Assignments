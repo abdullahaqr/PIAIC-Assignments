{
 "cells": [
  {
   "cell_type": "markdown",
   "metadata": {},
   "source": [
    "# 1.Calculate area of a circle"
   ]
  },
  {
   "cell_type": "code",
   "execution_count": 2,
   "metadata": {},
   "outputs": [
    {
     "name": "stdout",
     "output_type": "stream",
     "text": [
      "Enter the radius of a circle0.6\n",
      "Area of the circle is : 1.13\n"
     ]
    }
   ],
   "source": [
    "pi=3.14\n",
    "r=float (input ('Enter the radius of a circle'))\n",
    "area=pi*r*r\n",
    "print(\"Area of the circle is : %.2f\"%area)"
   ]
  },
  {
   "cell_type": "markdown",
   "metadata": {},
   "source": [
    "# 2.Check Number either positive, negative or zero"
   ]
  },
  {
   "cell_type": "code",
   "execution_count": 6,
   "metadata": {},
   "outputs": [
    {
     "name": "stdout",
     "output_type": "stream",
     "text": [
      "Enter a number: 0\n",
      "Zero Entered\n"
     ]
    }
   ],
   "source": [
    "num = float(input(\"Enter a number: \"))\n",
    "if num > 0:\n",
    "   print(\"Positive Number Entered\")\n",
    "elif num == 0:\n",
    "   print(\"Zero Entered\")\n",
    "else:\n",
    "   print(\"Negative Number Entered\")"
   ]
  },
  {
   "cell_type": "markdown",
   "metadata": {},
   "source": [
    "# 3.Divisibility Check of two numbers"
   ]
  },
  {
   "cell_type": "code",
   "execution_count": 2,
   "metadata": {},
   "outputs": [
    {
     "name": "stdout",
     "output_type": "stream",
     "text": [
      "Enter a Numerator: 8\n",
      "Enter a Denominator 4\n",
      "8 is completely divisible by 4\n"
     ]
    }
   ],
   "source": [
    "num1=int(input(\"Enter a Numerator: \"))\n",
    "num2=int(input(\"Enter a Denominator \"))\n",
    "if num1%num2==0:\n",
    "    print(num1, \"is completely divisible by\",num2)\n",
    "else:\n",
    "    print(num1, \"is not completely divisible by\",num2)"
   ]
  },
  {
   "cell_type": "markdown",
   "metadata": {},
   "source": [
    "# 4.Days calculator"
   ]
  },
  {
   "cell_type": "code",
   "execution_count": null,
   "metadata": {},
   "outputs": [],
   "source": [
    "import datetime\n",
    "start_date_input=input(\"Enter a date in (dd/mm/yy) format\")\n",
    "end_date_input=input(\"Enter a date in (dd/mm/yy) format\")\n",
    "start_date_split = start_date_input.split(\"/\")\n",
    "end_date_split = end_date_input.split(\"/\")\n",
    "start_year = int(start_date_split[2])\n",
    "end_year = int(end_date_split[2])\n",
    "start_month = int(start_date_split[1])\n",
    "end_month = int(end_date_split[1])\n",
    "start_date = int(start_date_split[0])\n",
    "end_date = int(end_date_split[0])\n",
    "date1 = datetime.date(start_year, start_month, start_date)\n",
    "date2 = datetime.date(end_year, end_month, end_date)\n",
    "print(\"there are\",date2 - date1,\"in between\",start_date_input,\"and\",end_date_input)"
   ]
  },
  {
   "cell_type": "markdown",
   "metadata": {},
   "source": [
    "# 5.Calculate Volume of a sphere"
   ]
  },
  {
   "cell_type": "code",
   "execution_count": 10,
   "metadata": {},
   "outputs": [
    {
     "name": "stdout",
     "output_type": "stream",
     "text": [
      "Enter the radius of a circle1\n",
      "Volume of a sphere is : 4.19\n"
     ]
    }
   ],
   "source": [
    "pi=3.14\n",
    "r=float (input ('Enter the radius of a circle'))\n",
    "v=4/3*pi*r*r*r\n",
    "print(\"Volume of a sphere is : %.2f\"%v)\n",
    "amoun"
   ]
  },
  {
   "cell_type": "markdown",
   "metadata": {},
   "source": [
    "# 6.Copy string n times"
   ]
  },
  {
   "cell_type": "code",
   "execution_count": 15,
   "metadata": {},
   "outputs": [
    {
     "name": "stdout",
     "output_type": "stream",
     "text": [
      "Enter StringHi\n",
      "How many copies of String you need:4\n",
      "HiHiHiHi\n"
     ]
    }
   ],
   "source": [
    "str=input(\"Enter String\")\n",
    "n=input(\"How many copies of String you need:\")\n",
    "print(str*int(n))"
   ]
  },
  {
   "cell_type": "markdown",
   "metadata": {},
   "source": [
    "# 7.Check if number is Even or Odd"
   ]
  },
  {
   "cell_type": "code",
   "execution_count": 1,
   "metadata": {},
   "outputs": [
    {
     "name": "stdout",
     "output_type": "stream",
     "text": [
      "Please Enter a Number : 7\n",
      "This Number is Odd\n"
     ]
    }
   ],
   "source": [
    "number=int(input(\"Please Enter a Number : \"))  \n",
    "x=int(number/2)*2  \n",
    "if(x==number):  \n",
    "    print(\"This Number is Even\")    \n",
    "else:  \n",
    "    print(\"This Number is Odd\") "
   ]
  },
  {
   "cell_type": "markdown",
   "metadata": {},
   "source": [
    "# 8.Vowel Tester"
   ]
  },
  {
   "cell_type": "code",
   "execution_count": 2,
   "metadata": {},
   "outputs": [
    {
     "name": "stdout",
     "output_type": "stream",
     "text": [
      "Enter a character: d\n",
      "d is not a vowel\n"
     ]
    }
   ],
   "source": [
    "ch = input(\"Enter a character: \")\n",
    "\n",
    "if(ch=='A' or ch=='a' or ch=='E' or ch =='e' or ch=='I'\n",
    " or ch=='i' or ch=='O' or ch=='o' or ch=='U' or ch=='u'):\n",
    "    print(ch, \"is a Vowel\")\n",
    "else:\n",
    "    print(ch, \"is not a vowel\")"
   ]
  },
  {
   "cell_type": "markdown",
   "metadata": {},
   "source": [
    "# 9.Triangle area"
   ]
  },
  {
   "cell_type": "code",
   "execution_count": 41,
   "metadata": {},
   "outputs": [
    {
     "name": "stdout",
     "output_type": "stream",
     "text": [
      "Enter magnitude of triangle Base:4\n",
      "Enter magnitude of triangle Height:4\n",
      "Area of a Triangle is 8.00:\n"
     ]
    }
   ],
   "source": [
    "b=int(input(\"Enter magnitude of triangle Base:\"))\n",
    "h=int(input(\"Enter magnitude of triangle Height:\"))\n",
    "area_of_triangle=1/2*b*h\n",
    "print(\"Area of a Triangle is %.2f:\"%area_of_triangle)"
   ]
  },
  {
   "cell_type": "markdown",
   "metadata": {},
   "source": [
    "# 10.Calculate Interest"
   ]
  },
  {
   "cell_type": "code",
   "execution_count": 6,
   "metadata": {},
   "outputs": [
    {
     "name": "stdout",
     "output_type": "stream",
     "text": [
      "Enter Principal Amount :10000\n",
      "Enter Rate of Interest :0.1\n",
      "Enter number of years for investment:5\n",
      "Your future value  is 10050.1001 :\n"
     ]
    }
   ],
   "source": [
    "amount = int(input(\"Enter Principal Amount :\"))\n",
    "rate = float(input(\"Enter Rate of Interest :\"))\n",
    "year = int(input(\"Enter number of years for investment:\"))\n",
    "future_value = amount*((1+(0.01*rate))**year)\n",
    "print(\"Your future value  is %.4f :\"%future_value)"
   ]
  },
  {
   "cell_type": "markdown",
   "metadata": {},
   "source": [
    "# 11. Euclidean distance"
   ]
  },
  {
   "cell_type": "code",
   "execution_count": 3,
   "metadata": {},
   "outputs": [
    {
     "name": "stdout",
     "output_type": "stream",
     "text": [
      "Enter Co-ordinate for x1 : 2\n",
      "Enter Co-ordinate for x2 : 4\n",
      "Enter Co-ordinate for y1 : 4\n",
      "Enter Co-ordinate for y2 : 4\n",
      "Distance between points  (2.0, 4.0) and (4.0, 4.0) is 2.0\n"
     ]
    }
   ],
   "source": [
    "x1=float(input(\"Enter Co-ordinate for x1 : \"))\n",
    "x2=float(input(\"Enter Co-ordinate for x2 : \"))\n",
    "y1=float(input(\"Enter Co-ordinate for y1 : \"))\n",
    "y2=float(input(\"Enter Co-ordinate for y2 : \"))\n",
    "dis=((x1-y1)**2 + (x2-y2)**2)**.5\n",
    "print(\"Distance between points \",(x1,y1),\"and\",(x2,y2),\"is\",dis)"
   ]
  },
  {
   "cell_type": "markdown",
   "metadata": {},
   "source": [
    "# 12. Feet to Centimeter Converter"
   ]
  },
  {
   "cell_type": "code",
   "execution_count": 7,
   "metadata": {},
   "outputs": [
    {
     "name": "stdout",
     "output_type": "stream",
     "text": [
      "Enter a Height into Feets: 65\n",
      "There are 1981.2 in  65 ft\n"
     ]
    }
   ],
   "source": [
    "# cm=feet*30.48\n",
    "# feet=cm/30.48\n",
    "height=int(input(\"Enter a Height into Feets: \"))\n",
    "cm=height*30.48\n",
    "print(\"There are\",cm,\"in \",height,'ft')"
   ]
  },
  {
   "cell_type": "markdown",
   "metadata": {},
   "source": [
    "# 13. BMI Calculator"
   ]
  },
  {
   "cell_type": "code",
   "execution_count": 9,
   "metadata": {},
   "outputs": [
    {
     "name": "stdout",
     "output_type": "stream",
     "text": [
      "Enter height in cm:164.592\n",
      "Enter weight in kg:94\n",
      "Your BMI is 34.69847665194492\n"
     ]
    }
   ],
   "source": [
    "height=float(input(\"Enter height in cm:\"))\n",
    "weight=float(input(\"Enter weight in kg:\"))\n",
    "cm=height/100\n",
    "BMI=((weight)/cm**2)\n",
    "print(\"Your BMI is\",BMI)"
   ]
  },
  {
   "cell_type": "markdown",
   "metadata": {},
   "source": [
    "# 14. Sum of n Positive Integers"
   ]
  },
  {
   "cell_type": "code",
   "execution_count": 10,
   "metadata": {},
   "outputs": [
    {
     "name": "stdout",
     "output_type": "stream",
     "text": [
      "Enter number5\n",
      "Sum of n Positive integers till 5 is 15\n"
     ]
    }
   ],
   "source": [
    "x=int(input(\"Enter number\"))\n",
    "sum=0\n",
    "for i in range(1,x+1):\n",
    "    sum=(sum + i)\n",
    "\n",
    "print(\"Sum of n Positive integers till\",x, \"is\",sum)"
   ]
  },
  {
   "cell_type": "markdown",
   "metadata": {},
   "source": [
    "# 15. Digits Sum of a Number"
   ]
  },
  {
   "cell_type": "code",
   "execution_count": 1,
   "metadata": {},
   "outputs": [
    {
     "name": "stdout",
     "output_type": "stream",
     "text": [
      "Enter a number : 15\n",
      "sum of 1 + 5 is 6\n"
     ]
    }
   ],
   "source": [
    "num=input(\"Enter a number : \")\n",
    "sum=0\n",
    "arr=[]\n",
    "for i in (num) :\n",
    "    sum=(sum+int(i))\n",
    "    arr.append(i)\n",
    "separator=\" + \"\n",
    "s=separator.join(arr)\n",
    "print(\"sum of\",s,\"is\",sum)\n"
   ]
  },
  {
   "cell_type": "markdown",
   "metadata": {},
   "source": [
    "# 16. Decimal to Binary Converter"
   ]
  },
  {
   "cell_type": "code",
   "execution_count": 1,
   "metadata": {},
   "outputs": [
    {
     "name": "stdout",
     "output_type": "stream",
     "text": [
      "Enter a decimal number4\n",
      "Binary Representation of 4  is 100\n"
     ]
    }
   ],
   "source": [
    "import math\n",
    "n=int(input(\"Enter a decimal number\"))\n",
    "next_val=n\n",
    "answer=\"\"\n",
    "while (next_val!=1):\n",
    "    answer = answer + str(next_val%2)\n",
    "    next_val=math.floor(next_val/2)\n",
    "answer = \"1\" + answer[::-1]\n",
    "    \n",
    "print(\"Binary Representation of\",n,\" is\",answer)"
   ]
  },
  {
   "cell_type": "markdown",
   "metadata": {},
   "source": [
    "# 17. Binary to Decimal Converter"
   ]
  },
  {
   "cell_type": "code",
   "execution_count": 2,
   "metadata": {},
   "outputs": [
    {
     "name": "stdout",
     "output_type": "stream",
     "text": [
      "Enter a binary number:100\n",
      "Decimal Representation of 100 is 4\n"
     ]
    }
   ],
   "source": [
    "n=input(\"Enter a binary number:\")\n",
    "deci=0\n",
    "for i in range(len (n)):\n",
    "    power = len(str(n)) - (i + 1)\n",
    "    deci+=int(str(n[i]))*(2**power)\n",
    "print(\"Decimal Representation of\",n,\"is\",deci )"
   ]
  },
  {
   "cell_type": "markdown",
   "metadata": {},
   "source": [
    "# 18. Vowel and Consonants Counter"
   ]
  },
  {
   "cell_type": "code",
   "execution_count": 3,
   "metadata": {},
   "outputs": [
    {
     "name": "stdout",
     "output_type": "stream",
     "text": [
      "Enter textAbdullah\n",
      "Vowels: 3\n",
      "consonants: 5\n"
     ]
    }
   ],
   "source": [
    "n=str(input(\"Enter text\"))\n",
    "count=0\n",
    "list1=[\"a\",\"A\",\"e\",\"E\",\"i\",\"I\",\"O\",\"o\",\"u\",\"U\"]\n",
    "char= 0\n",
    "for i in (n):\n",
    "    if i in list1:\n",
    "        count=count + 1\n",
    "    else:\n",
    "        char=char + 1\n",
    "print(\"Vowels:\",count)\n",
    "print(\"consonants:\",char)"
   ]
  },
  {
   "cell_type": "markdown",
   "metadata": {},
   "source": [
    "# 19. Palindrome tester"
   ]
  },
  {
   "cell_type": "code",
   "execution_count": 7,
   "metadata": {},
   "outputs": [
    {
     "name": "stdout",
     "output_type": "stream",
     "text": [
      "Enter textAHA\n",
      "text AHA is palindrome\n"
     ]
    }
   ],
   "source": [
    "n=input(\"Enter text\")\n",
    "rev_input=n[::-1]\n",
    "if n==rev_input:\n",
    "    print(\"text\",n,\"is palindrome\")\n",
    "else:\n",
    "        print(\"text\",n,\"not palindrome\")"
   ]
  },
  {
   "cell_type": "markdown",
   "metadata": {},
   "source": [
    "# 20. Count Alphabets, Numbers and Special Characters"
   ]
  },
  {
   "cell_type": "code",
   "execution_count": 8,
   "metadata": {},
   "outputs": [
    {
     "name": "stdout",
     "output_type": "stream",
     "text": [
      "Enter textpython 3.2\n",
      "Numbers= 2\n",
      "Alphabets= 6\n",
      "Special characters= 1\n",
      "Spaces= 1\n"
     ]
    }
   ],
   "source": [
    "n=(input(\"Enter text\"))\n",
    "num=0\n",
    "alpha=0\n",
    "special_char=0\n",
    "spaces=0\n",
    "for i in  range(len(n)):\n",
    "    if (n[i].isalpha()):\n",
    "        alpha=alpha+1\n",
    "    elif (n[i].isdigit()):\n",
    "        \n",
    "            num=num+1\n",
    "    elif (n[i].isspace()):\n",
    "        \n",
    "            spaces=spaces+1\n",
    "    else:\n",
    "        special_char=special_char+1\n",
    "print(\"Numbers=\",num)\n",
    "print(\"Alphabets=\",alpha)\n",
    "print(\"Special characters=\",special_char)\n",
    "print(\"Spaces=\",spaces)"
   ]
  },
  {
   "cell_type": "markdown",
   "metadata": {},
   "source": [
    "# 21. Write a Python program to construct the following pattern\n",
    "\n",
    "    *\n",
    "    * *\n",
    "    * * *\n",
    "    * * * *\n",
    "    * * * * *\n",
    "    * * * *\n",
    "    * * *\n",
    "    * *\n",
    "    *\n",
    "    \n"
   ]
  },
  {
   "cell_type": "code",
   "execution_count": 1,
   "metadata": {},
   "outputs": [
    {
     "name": "stdout",
     "output_type": "stream",
     "text": [
      "Enter a number5\n",
      "\n",
      "* \n",
      "* * \n",
      "* * * \n",
      "* * * * \n",
      "* * * * * \n",
      "* * * * \n",
      "* * * \n",
      "* * \n",
      "* \n"
     ]
    }
   ],
   "source": [
    "n=int(input(\"Enter a number\"))\n",
    "for i in range(n):\n",
    "    for j in range(i):\n",
    "        print ('* ', end=\"\")\n",
    "    print('')\n",
    "\n",
    "for i in range(n,0, -1):\n",
    "    for j in range(i):\n",
    "        print('* ', end=\"\")\n",
    "    print('')"
   ]
  },
  {
   "cell_type": "markdown",
   "metadata": {},
   "source": [
    "# 22. Write a Python program to construct the following pattern\n",
    "    \n",
    "    1\n",
    "    1 2\n",
    "    1 2 3\n",
    "    1 2 3 4\n",
    "    1 2 3 4 5\n",
    "    1 2 3 4\n",
    "    1 2 3\n",
    "    1 2 \n",
    "    1"
   ]
  },
  {
   "cell_type": "code",
   "execution_count": 5,
   "metadata": {},
   "outputs": [
    {
     "name": "stdout",
     "output_type": "stream",
     "text": [
      "Enter a number5\n",
      "1\n",
      "12\n",
      "123\n",
      "1234\n",
      "12345\n",
      "1234\n",
      "123\n",
      "12\n",
      "1\n"
     ]
    }
   ],
   "source": [
    "n=int(input(\"Enter a number\"))\n",
    "x=\"\"\n",
    "for i in range(1,n+1):\n",
    "    x = x + str(i)\n",
    "    print(x)\n",
    "    \n",
    "for i in range(n-1,0,-1):\n",
    "    print(x[:i])"
   ]
  },
  {
   "cell_type": "markdown",
   "metadata": {},
   "source": [
    "# 23. Write a Python program to construct the following pattern\n",
    "\n",
    "    1\n",
    "    22\n",
    "    333\n",
    "    4444\n",
    "    55555\n",
    "    666666\n",
    "    7777777\n",
    "    88888888\n",
    "    999999999"
   ]
  },
  {
   "cell_type": "code",
   "execution_count": 9,
   "metadata": {},
   "outputs": [
    {
     "name": "stdout",
     "output_type": "stream",
     "text": [
      "Enter a number9\n",
      "1\n",
      "22\n",
      "333\n",
      "4444\n",
      "55555\n",
      "666666\n",
      "7777777\n",
      "88888888\n",
      "999999999\n"
     ]
    }
   ],
   "source": [
    "n=int(input(\"Enter a number\"))\n",
    "for i in range(1,n+1):\n",
    "    for j in range(1,i+1):\n",
    "         print(i,end=\"\")\n",
    "    print()"
   ]
  }
 ],
 "metadata": {
  "kernelspec": {
   "display_name": "Python 3",
   "language": "python",
   "name": "python3"
  },
  "language_info": {
   "codemirror_mode": {
    "name": "ipython",
    "version": 3
   },
   "file_extension": ".py",
   "mimetype": "text/x-python",
   "name": "python",
   "nbconvert_exporter": "python",
   "pygments_lexer": "ipython3",
   "version": "3.7.3"
  }
 },
 "nbformat": 4,
 "nbformat_minor": 2
}
